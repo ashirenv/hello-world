{
  "nbformat": 4,
  "nbformat_minor": 0,
  "metadata": {
    "colab": {
      "name": "Python Bootcamp.ipynb",
      "version": "0.3.2",
      "provenance": [],
      "collapsed_sections": [],
      "include_colab_link": true
    },
    "kernelspec": {
      "name": "python3",
      "display_name": "Python 3"
    }
  },
  "cells": [
    {
      "cell_type": "markdown",
      "metadata": {
        "id": "view-in-github",
        "colab_type": "text"
      },
      "source": [
        "[View in Colaboratory](https://colab.research.google.com/github/ashirenv/hello-world/blob/master/Python_Bootcamp.ipynb)"
      ]
    },
    {
      "metadata": {
        "id": "J0H2HGVvNqe-",
        "colab_type": "code",
        "colab": {
          "base_uri": "https://localhost:8080/",
          "height": 34
        },
        "outputId": "b4f18a17-8462-47bc-89f4-3385d1f62c18"
      },
      "cell_type": "code",
      "source": [
        "print('hello world')"
      ],
      "execution_count": 1,
      "outputs": [
        {
          "output_type": "stream",
          "text": [
            "hello world\n"
          ],
          "name": "stdout"
        }
      ]
    },
    {
      "metadata": {
        "id": "bQdeH1a0RmIy",
        "colab_type": "code",
        "colab": {
          "base_uri": "https://localhost:8080/",
          "height": 34
        },
        "outputId": "1d21fa9d-4836-474e-bfe8-ada6a4d291ac"
      },
      "cell_type": "code",
      "source": [
        "something = None\n",
        "print(something)"
      ],
      "execution_count": 2,
      "outputs": [
        {
          "output_type": "stream",
          "text": [
            "None\n"
          ],
          "name": "stdout"
        }
      ]
    },
    {
      "metadata": {
        "id": "BdUuiB4dS7YL",
        "colab_type": "code",
        "colab": {
          "base_uri": "https://localhost:8080/",
          "height": 34
        },
        "outputId": "2508256d-2e25-43f2-e1c3-0ceb1673515f"
      },
      "cell_type": "code",
      "source": [
        "is_tired = True\n",
        "is_hungry = False\n",
        "print(is_hungry)"
      ],
      "execution_count": 4,
      "outputs": [
        {
          "output_type": "stream",
          "text": [
            "False\n"
          ],
          "name": "stdout"
        }
      ]
    },
    {
      "metadata": {
        "id": "ysICyMKqTVYM",
        "colab_type": "code",
        "colab": {
          "base_uri": "https://localhost:8080/",
          "height": 34
        },
        "outputId": "2a2c65cf-6cfc-4c5f-a2e1-3adfa542ad6c"
      },
      "cell_type": "code",
      "source": [
        "age = 36\n",
        "print(age + 1 / 5)"
      ],
      "execution_count": 7,
      "outputs": [
        {
          "output_type": "stream",
          "text": [
            "36.2\n"
          ],
          "name": "stdout"
        }
      ]
    },
    {
      "metadata": {
        "id": "RnvperddTuge",
        "colab_type": "code",
        "colab": {
          "base_uri": "https://localhost:8080/",
          "height": 34
        },
        "outputId": "53c2e2a3-3c81-4bcc-feef-8a39c58ff5c3"
      },
      "cell_type": "code",
      "source": [
        "half = 0.5\n",
        "one = 1.0\n",
        "\n",
        "print(half)"
      ],
      "execution_count": 8,
      "outputs": [
        {
          "output_type": "stream",
          "text": [
            "0.5\n"
          ],
          "name": "stdout"
        }
      ]
    },
    {
      "metadata": {
        "id": "o6jKEN_7VGrY",
        "colab_type": "code",
        "colab": {
          "base_uri": "https://localhost:8080/",
          "height": 34
        },
        "outputId": "f92c0829-adc3-4a3d-ee5b-98e6fab4eb06"
      },
      "cell_type": "code",
      "source": [
        "message = 'He said: \"Hello World\"'\n",
        "print(message)"
      ],
      "execution_count": 9,
      "outputs": [
        {
          "output_type": "stream",
          "text": [
            "He said: \"Hello World\"\n"
          ],
          "name": "stdout"
        }
      ]
    },
    {
      "metadata": {
        "id": "rwrMGPh_VblC",
        "colab_type": "code",
        "colab": {
          "base_uri": "https://localhost:8080/",
          "height": 51
        },
        "outputId": "594ef27f-8a78-4d7c-e798-ff4113c9b4f0"
      },
      "cell_type": "code",
      "source": [
        "message = 'He said: \"Let\\'s learn Python!\"'\n",
        "message = 'He said: \\n\"Let\\'s learn Python!\"\"'\n",
        "print(message)"
      ],
      "execution_count": 10,
      "outputs": [
        {
          "output_type": "stream",
          "text": [
            "He said: \n",
            "\"Let's learn Python!\"\"\n"
          ],
          "name": "stdout"
        }
      ]
    },
    {
      "metadata": {
        "id": "TukEN6IWVy9A",
        "colab_type": "code",
        "colab": {
          "base_uri": "https://localhost:8080/",
          "height": 51
        },
        "outputId": "3bf69397-8664-42b2-9168-bc9ffbd591fc"
      },
      "cell_type": "code",
      "source": [
        "print(message + \"LOL\" + \" ROFL\")"
      ],
      "execution_count": 13,
      "outputs": [
        {
          "output_type": "stream",
          "text": [
            "He said: \n",
            "\"Let's learn Python!\"\"LOL ROFL\n"
          ],
          "name": "stdout"
        }
      ]
    },
    {
      "metadata": {
        "id": "lfAl1ilxWKv4",
        "colab_type": "code",
        "colab": {
          "base_uri": "https://localhost:8080/",
          "height": 51
        },
        "outputId": "5d96105f-82a5-481f-eefc-6219a327ffac"
      },
      "cell_type": "code",
      "source": [
        "print(message.replace('Python', 'C++'))"
      ],
      "execution_count": 14,
      "outputs": [
        {
          "output_type": "stream",
          "text": [
            "He said: \n",
            "\"Let's learn C++!\"\"\n"
          ],
          "name": "stdout"
        }
      ]
    },
    {
      "metadata": {
        "id": "pKkrbgpYW3Zu",
        "colab_type": "code",
        "colab": {
          "base_uri": "https://localhost:8080/",
          "height": 34
        },
        "outputId": "7a0e9646-32f0-4b3a-d1ef-30e1f2575130"
      },
      "cell_type": "code",
      "source": [
        "name = 'Shiren'\n",
        "message = 'My name is {} and I am {} years old.'\n",
        "print(message.format(name, 24))"
      ],
      "execution_count": 17,
      "outputs": [
        {
          "output_type": "stream",
          "text": [
            "My name is Shiren and I am 24 years old.\n"
          ],
          "name": "stdout"
        }
      ]
    },
    {
      "metadata": {
        "id": "IUWWA7HmXhf6",
        "colab_type": "code",
        "colab": {
          "base_uri": "https://localhost:8080/",
          "height": 34
        },
        "outputId": "e8a8ebb9-1952-46d1-f9c8-919b07205d8b"
      },
      "cell_type": "code",
      "source": [
        "# WORKING WITH LISTS.\n",
        "\n",
        "empty = []\n",
        "ages = [1, 99, 36, 100]\n",
        "names = ['Bob', 'Jane']\n",
        "mixed = [1, 'Bob', True, None]\n",
        "matrix = [[1,2], [3,4]]\n",
        "\n",
        "#\n",
        "#print(matrix)\n",
        "#print(ages[0])\n",
        "#print(names[1])\n",
        "#len(ages)\n",
        "#print(ages[len(ages)-1])\n",
        "#print(matrix[1][0])\n",
        "\n",
        "ages.append(21)\n",
        "ages.insert(0,18)\n",
        "ages.reverse()\n",
        "ages.sort()\n",
        "\n",
        "print(ages)"
      ],
      "execution_count": 28,
      "outputs": [
        {
          "output_type": "stream",
          "text": [
            "[1, 18, 21, 36, 99, 100]\n"
          ],
          "name": "stdout"
        }
      ]
    },
    {
      "metadata": {
        "id": "y0bWYzFgX_69",
        "colab_type": "code",
        "colab": {
          "base_uri": "https://localhost:8080/",
          "height": 119
        },
        "outputId": "0d6995f9-2094-4c2a-8529-2fd0d866e262"
      },
      "cell_type": "code",
      "source": [
        "# WORKING WITH DICTIONARIES.\n",
        "\n",
        "person = {                \n",
        "    'name': 'Martin',\n",
        "    'age': 36,\n",
        "    1: 'One',\n",
        "    2: 'Two',\n",
        "    'address': {\n",
        "        'country': 'Singapore',\n",
        "        'zip': '123456'\n",
        "    }\n",
        "}\n",
        "print(person['name'])\n",
        "print(person[1])\n",
        "print(person['address']['zip'])\n",
        "\n",
        "print(person.keys())\n",
        "print(person.items())\n",
        "\n",
        "person['height'] = 204     # create a new key\n",
        "person['age']              # overide an existing key\n",
        "print(person)"
      ],
      "execution_count": 46,
      "outputs": [
        {
          "output_type": "stream",
          "text": [
            "Martin\n",
            "One\n",
            "123456\n",
            "dict_keys(['name', 'age', 1, 2, 'address'])\n",
            "dict_items([('name', 'Martin'), ('age', 36), (1, 'One'), (2, 'Two'), ('address', {'country': 'Singapore', 'zip': '123456'})])\n",
            "{'name': 'Martin', 'age': 36, 1: 'One', 2: 'Two', 'address': {'country': 'Singapore', 'zip': '123456'}, 'height': 204}\n"
          ],
          "name": "stdout"
        }
      ]
    },
    {
      "metadata": {
        "id": "gEKufSqUaeb8",
        "colab_type": "code",
        "colab": {
          "base_uri": "https://localhost:8080/",
          "height": 34
        },
        "outputId": "38411ab3-482c-4000-94a6-bca5b03169db"
      },
      "cell_type": "code",
      "source": [
        "from decimal import Decimal\n",
        "\n",
        "half = Decimal(0.5)\n",
        "half = Decimal('0.5')   # always create decimals using strings to avoid rounding errors.\n",
        "print(half)"
      ],
      "execution_count": 48,
      "outputs": [
        {
          "output_type": "stream",
          "text": [
            "0.5\n"
          ],
          "name": "stdout"
        }
      ]
    },
    {
      "metadata": {
        "id": "I-OoozqPdXAr",
        "colab_type": "code",
        "colab": {
          "base_uri": "https://localhost:8080/",
          "height": 34
        },
        "outputId": "710d36bc-dd53-43fd-cbf4-69a83a0ff7f5"
      },
      "cell_type": "code",
      "source": [
        "print(str(True))        # prints True as a string."
      ],
      "execution_count": 49,
      "outputs": [
        {
          "output_type": "stream",
          "text": [
            "True\n"
          ],
          "name": "stdout"
        }
      ]
    },
    {
      "metadata": {
        "id": "PvsikdSqeMAo",
        "colab_type": "code",
        "colab": {
          "base_uri": "https://localhost:8080/",
          "height": 119
        },
        "outputId": "68646f35-d166-487b-d5ea-f932850d0068"
      },
      "cell_type": "code",
      "source": [
        "from datetime import date, datetime\n",
        "\n",
        "today = date(2018, 10, 20)\n",
        "print(today)\n",
        "\n",
        "now = datetime(2018, 10, 20, 11, 18)       # prints a specified time.\n",
        "print(now)\n",
        "\n",
        "current_time = datetime.now()\n",
        "print(current_time)                        # prints the current time based on now() function.\n",
        "\n",
        "print(current_time.year)\n",
        "print(current_time.month)\n",
        "print(current_time.day)"
      ],
      "execution_count": 56,
      "outputs": [
        {
          "output_type": "stream",
          "text": [
            "2018-10-20\n",
            "2018-10-20 11:18:00\n",
            "2018-10-20 03:21:06.612027\n",
            "2018\n",
            "10\n",
            "20\n"
          ],
          "name": "stdout"
        }
      ]
    },
    {
      "metadata": {
        "id": "ovIQbom2erjX",
        "colab_type": "code",
        "colab": {
          "base_uri": "https://localhost:8080/",
          "height": 34
        },
        "outputId": "866ba285-27e0-48a1-c56c-12d87b6c025f"
      },
      "cell_type": "code",
      "source": [
        "# if statements\n",
        "\n",
        "age = 24\n",
        "\n",
        "if age == 100:                     # put most specific if statements first.\n",
        "  print('You are really old')\n",
        "elif age>=18:                      # put generic statemnts\n",
        "  print('You are an adult')\n",
        "else:\n",
        "  print('You are not an adult')"
      ],
      "execution_count": 67,
      "outputs": [
        {
          "output_type": "stream",
          "text": [
            "You are an adult\n"
          ],
          "name": "stdout"
        }
      ]
    },
    {
      "metadata": {
        "id": "2PfwE5-sgm5q",
        "colab_type": "code",
        "colab": {
          "base_uri": "https://localhost:8080/",
          "height": 51
        },
        "outputId": "cfe16c8f-d4dd-49d2-aa3b-4d75483027ee"
      },
      "cell_type": "code",
      "source": [
        "this = 2\n",
        "that = 3\n",
        "something = 4\n",
        "\n",
        "#                         TRUE\n",
        "#           TRUE           and TRUE \n",
        "#   (FALSE    or  TRUE )   and TRUE\n",
        "if (this == 1 or that > 2) and something < 5:\n",
        "  print('WOW!')\n",
        "  \n",
        "\n",
        "if this:             # assumes that it is true\n",
        "  print(this)"
      ],
      "execution_count": 69,
      "outputs": [
        {
          "output_type": "stream",
          "text": [
            "WOW!\n",
            "2\n"
          ],
          "name": "stdout"
        }
      ]
    },
    {
      "metadata": {
        "id": "f4rBHH1-iRoP",
        "colab_type": "code",
        "colab": {
          "base_uri": "https://localhost:8080/",
          "height": 34
        },
        "outputId": "c581d9c0-30cc-4790-d4ef-9c548371a656"
      },
      "cell_type": "code",
      "source": [
        "# for loop\n",
        "\n",
        "names = ['Bob', 'Alice', 'John', 'Tina']\n",
        "\n",
        "for name in names:\n",
        "  if name == 'Bob':\n",
        "    continue                # keeps the loop running\n",
        "  if name == 'John':          \n",
        "    break                   # terminates the loop\n",
        "  print(name)"
      ],
      "execution_count": 74,
      "outputs": [
        {
          "output_type": "stream",
          "text": [
            "Alice\n"
          ],
          "name": "stdout"
        }
      ]
    },
    {
      "metadata": {
        "id": "LThoHM82jnY4",
        "colab_type": "code",
        "colab": {
          "base_uri": "https://localhost:8080/",
          "height": 187
        },
        "outputId": "a6759383-9797-4116-c3f7-cb250bf5a93c"
      },
      "cell_type": "code",
      "source": [
        "# while loop\n",
        "\n",
        "counter = 0 \n",
        "\n",
        "while counter < 10:\n",
        "  counter += 1             # has same meaning as counter = counter + 1\n",
        "  print(counter)"
      ],
      "execution_count": 75,
      "outputs": [
        {
          "output_type": "stream",
          "text": [
            "1\n",
            "2\n",
            "3\n",
            "4\n",
            "5\n",
            "6\n",
            "7\n",
            "8\n",
            "9\n",
            "10\n"
          ],
          "name": "stdout"
        }
      ]
    },
    {
      "metadata": {
        "id": "2XUCRjPik_M0",
        "colab_type": "code",
        "colab": {
          "base_uri": "https://localhost:8080/",
          "height": 34
        },
        "outputId": "db47c093-36f1-4f91-c90d-41449f7dd341"
      },
      "cell_type": "code",
      "source": [
        "# function\n",
        "\n",
        "def squared(value):\n",
        "  square_value = value * value\n",
        "  return square_value\n",
        "\n",
        "result = squared(5)\n",
        "print(result)"
      ],
      "execution_count": 77,
      "outputs": [
        {
          "output_type": "stream",
          "text": [
            "25\n"
          ],
          "name": "stdout"
        }
      ]
    },
    {
      "metadata": {
        "id": "uHbZFLTsl1PP",
        "colab_type": "code",
        "colab": {
          "base_uri": "https://localhost:8080/",
          "height": 34
        },
        "outputId": "e6f9a2c3-0acb-4dbb-88b0-0fe90aeb6d19"
      },
      "cell_type": "code",
      "source": [
        "def factorial(n):\n",
        "    if n == 0:\n",
        "        return 1\n",
        "    else:\n",
        "        return n * factorial(n-1)\n",
        "      \n",
        "result = factorial(4)\n",
        "print(result)"
      ],
      "execution_count": 81,
      "outputs": [
        {
          "output_type": "stream",
          "text": [
            "24\n"
          ],
          "name": "stdout"
        }
      ]
    },
    {
      "metadata": {
        "id": "DWNm1RwxmX6g",
        "colab_type": "code",
        "colab": {
          "base_uri": "https://localhost:8080/",
          "height": 34
        },
        "outputId": "d0c726c3-42d1-4f7e-dcf8-4f34a090ec03"
      },
      "cell_type": "code",
      "source": [
        "def concat(text1, text2):\n",
        "  phrase = text1 + ' ' + text2\n",
        "  return phrase\n",
        "\n",
        "message = concat('Hello', 'World')\n",
        "print(message)"
      ],
      "execution_count": 83,
      "outputs": [
        {
          "output_type": "stream",
          "text": [
            "Hello World\n"
          ],
          "name": "stdout"
        }
      ]
    },
    {
      "metadata": {
        "id": "zKAHrWsfmvOa",
        "colab_type": "code",
        "colab": {
          "base_uri": "https://localhost:8080/",
          "height": 85
        },
        "outputId": "be66a0c7-fa2e-4783-bce9-7504e838932c"
      },
      "cell_type": "code",
      "source": [
        "# WORKING WITH FUNCTIONS.\n",
        "\n",
        "def address(first_name=None, last_name=None, country='Singapore', city='Singapore', street=None, zip=None):\n",
        "  result = '{} {}\\n{}\\n{} {}\\n{}'.format(first_name, last_name, street, city, zip, country)\n",
        "  return result\n",
        "\n",
        "my_address = address(\n",
        "  first_name='Shiren',\n",
        "  last_name='Ang',\n",
        "  street='66 Farrer Rd',\n",
        "  zip='123456',\n",
        ")\n",
        "print(my_address)"
      ],
      "execution_count": 96,
      "outputs": [
        {
          "output_type": "stream",
          "text": [
            "Shiren Ang\n",
            "66 Farrer Rd\n",
            "Singapore 123456\n",
            "Singapore\n"
          ],
          "name": "stdout"
        }
      ]
    },
    {
      "metadata": {
        "id": "kAm_a0qenRVa",
        "colab_type": "code",
        "colab": {
          "base_uri": "https://localhost:8080/",
          "height": 68
        },
        "outputId": "6614146a-cae9-4569-aeb4-9456a5f6be87"
      },
      "cell_type": "code",
      "source": [
        "# WORKING WITH CLASSES.\n",
        "\n",
        "class Animal(object):\n",
        "  legs = 4\n",
        "  speed = 0\n",
        "  \n",
        "  def run(self):\n",
        "    self.speed = 12\n",
        "    \n",
        "#my_animal = Animal()\n",
        "#print(my_animal.speed)\n",
        "\n",
        "#my_animal.run()            # calls the run function.\n",
        "#print(my_animal.speed)\n",
        "\n",
        "#other_animal = Animal()\n",
        "#print(other_animal.speed)\n",
        "\n",
        "# Extending the base/super/parent class\n",
        "class Dog(Animal):          # dog has inherited all the attributes from Animal.\n",
        "  def bark(self):\n",
        "    print('WOOF WOOF!')\n",
        "    \n",
        "# Overriding the base/super/parent class\n",
        "class Spider(Animal):\n",
        "  legs = 8\n",
        "  \n",
        "  # spider can run 10x faster than Animals\n",
        "  def run(self):\n",
        "    super().run()           # recall the run function from the super class.\n",
        "    self.speed = self.speed * 10\n",
        "    \n",
        "doggy = Dog()               # doggy inherits attributes of Dog class\n",
        "doggy.bark()                # calls the bark function\n",
        "doggy.run()                 # calls the run function\n",
        "print(doggy.speed)\n",
        "\n",
        "spiderman = Spider()\n",
        "spiderman.run()\n",
        "print(spiderman.speed)\n",
        "\n",
        "class Mutant(Spider, Dog):  # not advised to do this.\n",
        "  pass\n",
        "\n",
        "monster = Mutant()\n",
        "monster.bark()\n",
        "monster.run()               # program won't know which class to call run function from.\n",
        "print(monster.speed)"
      ],
      "execution_count": 108,
      "outputs": [
        {
          "output_type": "stream",
          "text": [
            "WOOF WOOF!\n",
            "12\n",
            "120\n"
          ],
          "name": "stdout"
        }
      ]
    },
    {
      "metadata": {
        "id": "1-3SJSunqJ73",
        "colab_type": "code",
        "colab": {
          "base_uri": "https://localhost:8080/",
          "height": 51
        },
        "outputId": "253529b5-9e88-44e5-97fd-728086e8508c"
      },
      "cell_type": "code",
      "source": [
        "# EXCEPTION HANDLING: E.g. Zero Divison Errors, Index Errors.\n",
        "\n",
        "value = 1 \n",
        "value2 = 0\n",
        "\n",
        "try:\n",
        "  result = value / value2\n",
        "except ZeroDivisionError as ex:\n",
        "  print('ERROR: {}'.format(ex))\n",
        "except IndexError as ex:\n",
        "  print('INDEX ERROR')\n",
        "except Exception:\n",
        "  print('Unknown error')\n",
        "finally:\n",
        "  print('Finally!')\n",
        "    \n"
      ],
      "execution_count": 120,
      "outputs": [
        {
          "output_type": "stream",
          "text": [
            "ERROR: division by zero\n",
            "Finally!\n"
          ],
          "name": "stdout"
        }
      ]
    },
    {
      "metadata": {
        "id": "lETikUTg7d2N",
        "colab_type": "code",
        "colab": {
          "base_uri": "https://localhost:8080/",
          "height": 119
        },
        "outputId": "4e48956b-53a6-4005-f380-fbb9922fdd13"
      },
      "cell_type": "code",
      "source": [
        "# SLICING\n",
        "\n",
        "message = 'This is some text'\n",
        "print(message[:6])\n",
        "print(message[5:])\n",
        "print(message[:-5])\n",
        "print(message[5:-5])\n",
        "\n",
        "ages = [1,2,3]\n",
        "print(ages[len(ages)-1])\n",
        "print(ages[-1])             # another way to access last item in list."
      ],
      "execution_count": 124,
      "outputs": [
        {
          "output_type": "stream",
          "text": [
            "This i\n",
            "is some text\n",
            "This is some\n",
            "is some\n",
            "3\n",
            "3\n"
          ],
          "name": "stdout"
        }
      ]
    },
    {
      "metadata": {
        "id": "cGvYom__-kAR",
        "colab_type": "code",
        "colab": {
          "base_uri": "https://localhost:8080/",
          "height": 119
        },
        "outputId": "79de5a75-797b-4be8-c7a3-1d442edb69fe"
      },
      "cell_type": "code",
      "source": [
        "mylist = [1, 2, 3, 4, 5, 6]\n",
        "\n",
        "newlist = [item for item in mylist]     # for each item in mylist, take item.\n",
        "newlist = [item for item in mylist if item > 3]\n",
        "newlist = [item * 10 for item in mylist if item >3]\n",
        "newlist = [squared(item) for item in mylist if item >3]\n",
        "print(newlist)\n",
        "\n",
        "# however, doing that means you cannot identify which item caused a crash.\n",
        "\n",
        "newlist = []\n",
        "for item in mylist:\n",
        "  if item > 3:\n",
        "    #import ipdb; ipdb.set_trace()\n",
        "    result = squared(item)\n",
        "    newlist.append(result)\n",
        "  print(newlist)\n"
      ],
      "execution_count": 136,
      "outputs": [
        {
          "output_type": "stream",
          "text": [
            "[]\n",
            "[]\n",
            "[]\n",
            "[16]\n",
            "[16, 25]\n",
            "[16, 25, 36]\n"
          ],
          "name": "stdout"
        }
      ]
    },
    {
      "metadata": {
        "id": "7GPAwZ66_zsM",
        "colab_type": "code",
        "colab": {
          "base_uri": "https://localhost:8080/",
          "height": 51
        },
        "outputId": "7e5aec64-b355-4e89-9260-76491277b02e"
      },
      "cell_type": "code",
      "source": [
        "def squared(value):\n",
        "  return value * value\n",
        "\n",
        "squared = lambda value: value * value\n",
        "print(squared(5))\n",
        "\n",
        "def sort_key(value):                      # function to take the number in position 2 in each item.\n",
        "  return value[1]\n",
        "\n",
        "mylist = [['b', 3], ['a', 2], ['c', 1]]\n",
        "mylist.sort(key=sort_key)                 # sort by the number in the list.\n",
        "mylist.sort(key=lambda value: value[1])   # lambda construct reduces code.\n",
        "print(mylist)"
      ],
      "execution_count": 142,
      "outputs": [
        {
          "output_type": "stream",
          "text": [
            "25\n",
            "[['c', 1], ['a', 2], ['b', 3]]\n"
          ],
          "name": "stdout"
        }
      ]
    },
    {
      "metadata": {
        "id": "myRkIDg5A_bW",
        "colab_type": "code",
        "colab": {}
      },
      "cell_type": "code",
      "source": [
        ""
      ],
      "execution_count": 0,
      "outputs": []
    }
  ]
}